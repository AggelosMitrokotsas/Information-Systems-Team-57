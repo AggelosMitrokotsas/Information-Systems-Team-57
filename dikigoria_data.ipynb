{
  "nbformat": 4,
  "nbformat_minor": 0,
  "metadata": {
    "colab": {
      "provenance": []
    },
    "kernelspec": {
      "name": "python3",
      "display_name": "Python 3"
    },
    "language_info": {
      "name": "python"
    },
    "accelerator": "GPU",
    "gpuClass": "standard"
  },
  "cells": [
    {
      "cell_type": "code",
      "source": [
        "!pip install faker"
      ],
      "metadata": {
        "colab": {
          "base_uri": "https://localhost:8080/"
        },
        "id": "Pi_lNMj279JR",
        "outputId": "2423d3dc-efb9-4b91-a578-ecd1869ceca1"
      },
      "execution_count": null,
      "outputs": [
        {
          "output_type": "stream",
          "name": "stdout",
          "text": [
            "Looking in indexes: https://pypi.org/simple, https://us-python.pkg.dev/colab-wheels/public/simple/\n",
            "Collecting faker\n",
            "  Downloading Faker-16.6.1-py3-none-any.whl (1.7 MB)\n",
            "\u001b[2K     \u001b[90m━━━━━━━━━━━━━━━━━━━━━━━━━━━━━━━━━━━━━━━━\u001b[0m \u001b[32m1.7/1.7 MB\u001b[0m \u001b[31m52.0 MB/s\u001b[0m eta \u001b[36m0:00:00\u001b[0m\n",
            "\u001b[?25hRequirement already satisfied: python-dateutil>=2.4 in /usr/local/lib/python3.8/dist-packages (from faker) (2.8.2)\n",
            "Requirement already satisfied: six>=1.5 in /usr/local/lib/python3.8/dist-packages (from python-dateutil>=2.4->faker) (1.15.0)\n",
            "Installing collected packages: faker\n",
            "Successfully installed faker-16.6.1\n"
          ]
        }
      ]
    },
    {
      "cell_type": "code",
      "execution_count": null,
      "metadata": {
        "colab": {
          "base_uri": "https://localhost:8080/"
        },
        "id": "wkH1kFE270I1",
        "outputId": "c100d3dc-7002-442e-ce4e-e69c958529c0"
      },
      "outputs": [
        {
          "output_type": "stream",
          "name": "stderr",
          "text": [
            "100%|██████████| 700000/700000 [2:51:39<00:00, 67.96it/s]\n"
          ]
        }
      ],
      "source": [
        "#!pip install faker\n",
        "from collections import OrderedDict\n",
        "import faker\n",
        "from tqdm import tqdm\n",
        "import numpy as np\n",
        "from datetime import datetime\n",
        "import codecs\n",
        "import pandas as pd\n",
        "import csv\n",
        "import random\n",
        "\n",
        "language_loc = OrderedDict([\n",
        "    ('en-US', 7),\n",
        "])\n",
        "fake = faker.Faker(language_loc)\n",
        "content = \"\"\n",
        "\n",
        "\n",
        "########################### dikigoros ###########################\n",
        "\n",
        "DUMMY_DATA_NUMBER = 700000\n",
        "THE_NAME = \"dikigoros\"\n",
        "COLUMNS = [\"ID_Dikigoros\", \"Name_dikigoros\", \"Name_grafeio\", \"Eidikotita\", \"Money\", \"ilikia\"]\n",
        "ROWS = []\n",
        "existed_grafeio=[]\n",
        "checked = []\n",
        "eidikotites = [\"Nomika\", \"Astika\", \"Poinika\", \"International\", \"Klironomika\"]\n",
        "for i in tqdm(range(DUMMY_DATA_NUMBER)):\n",
        "    ID_Dikigoros = 3300000+i\n",
        "    Name_dikigoros = fake.name()\n",
        "    a = True\n",
        "    while a:\n",
        "        c = random.choices(\"ABCDEFGHIJKLMNOPQRSTUVWXYZ\",k=6)\n",
        "        characterss = c[0]+c[1]+c[2]+c[3]+c[4]+c[5]\n",
        "        #print(characterss)\n",
        "        #print(len(checked))\n",
        "        if characterss not in checked:\n",
        "            checked.append(characterss)\n",
        "            Name_grafeio = \"Grafeio \" + str(characterss)\n",
        "            a = False\n",
        "            existed_grafeio.append(Name_grafeio)\n",
        "    Eidikotita = eidikotites[random.randint(0, len(eidikotites)-1)]\n",
        "    Money = random.randint(1000, 10000)\n",
        "    ilikia = random.randint(30, 87)\n",
        "    content += f'INSERT INTO {THE_NAME} ({\",\".join(COLUMNS)}) VALUES (\"{ID_Dikigoros}\",\"{Name_dikigoros}\",\"{Name_grafeio}\",\"{Eidikotita}\",\"{Money}\",\"{ilikia}\");\\n'\n",
        "    ROWS.append([ID_Dikigoros,Name_dikigoros,Name_grafeio,Eidikotita,Money,ilikia])\n",
        "\n",
        "df = pd.DataFrame(ROWS,columns = COLUMNS)\n",
        "df.to_csv('dikigoros.csv',sep=';',encoding='UTF8',index=False)\n"
      ]
    },
    {
      "cell_type": "code",
      "source": [
        "from google.colab import files\n",
        "files.download('dikigoros.csv')"
      ],
      "metadata": {
        "colab": {
          "base_uri": "https://localhost:8080/",
          "height": 17
        },
        "id": "CWK7mJqk73cW",
        "outputId": "0af1eef8-0776-4359-e7e1-d21380d0ca37"
      },
      "execution_count": null,
      "outputs": [
        {
          "output_type": "display_data",
          "data": {
            "text/plain": [
              "<IPython.core.display.Javascript object>"
            ],
            "application/javascript": [
              "\n",
              "    async function download(id, filename, size) {\n",
              "      if (!google.colab.kernel.accessAllowed) {\n",
              "        return;\n",
              "      }\n",
              "      const div = document.createElement('div');\n",
              "      const label = document.createElement('label');\n",
              "      label.textContent = `Downloading \"${filename}\": `;\n",
              "      div.appendChild(label);\n",
              "      const progress = document.createElement('progress');\n",
              "      progress.max = size;\n",
              "      div.appendChild(progress);\n",
              "      document.body.appendChild(div);\n",
              "\n",
              "      const buffers = [];\n",
              "      let downloaded = 0;\n",
              "\n",
              "      const channel = await google.colab.kernel.comms.open(id);\n",
              "      // Send a message to notify the kernel that we're ready.\n",
              "      channel.send({})\n",
              "\n",
              "      for await (const message of channel.messages) {\n",
              "        // Send a message to notify the kernel that we're ready.\n",
              "        channel.send({})\n",
              "        if (message.buffers) {\n",
              "          for (const buffer of message.buffers) {\n",
              "            buffers.push(buffer);\n",
              "            downloaded += buffer.byteLength;\n",
              "            progress.value = downloaded;\n",
              "          }\n",
              "        }\n",
              "      }\n",
              "      const blob = new Blob(buffers, {type: 'application/binary'});\n",
              "      const a = document.createElement('a');\n",
              "      a.href = window.URL.createObjectURL(blob);\n",
              "      a.download = filename;\n",
              "      div.appendChild(a);\n",
              "      a.click();\n",
              "      div.remove();\n",
              "    }\n",
              "  "
            ]
          },
          "metadata": {}
        },
        {
          "output_type": "display_data",
          "data": {
            "text/plain": [
              "<IPython.core.display.Javascript object>"
            ],
            "application/javascript": [
              "download(\"download_f3a1daf0-9bd7-4c38-a214-81093963f441\", \"dikigoros.csv\", 38405558)"
            ]
          },
          "metadata": {}
        }
      ]
    }
  ]
}